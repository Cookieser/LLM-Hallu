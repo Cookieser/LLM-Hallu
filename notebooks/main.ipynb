{
 "cells": [
  {
   "cell_type": "code",
   "execution_count": null,
   "metadata": {},
   "outputs": [],
   "source": [
    "%load_ext autoreload\n",
    "%autoreload 2"
   ]
  },
  {
   "cell_type": "code",
   "execution_count": null,
   "metadata": {},
   "outputs": [],
   "source": [
    "import sys\n",
    "import os\n",
    "os.chdir(\"/home/yw699/codes/LLM-Hallu\")\n",
    "sys.path.append(os.path.abspath(\"src\"))"
   ]
  },
  {
   "cell_type": "markdown",
   "metadata": {},
   "source": [
    "## 读取配置文件"
   ]
  },
  {
   "cell_type": "code",
   "execution_count": null,
   "metadata": {},
   "outputs": [],
   "source": [
    "import yaml\n",
    "with open(\"configs/experiment_config1.yaml\", \"r\") as file:\n",
    "    config = yaml.safe_load(file)"
   ]
  },
  {
   "cell_type": "markdown",
   "metadata": {},
   "source": [
    "## Dataset加载与格式化"
   ]
  },
  {
   "cell_type": "code",
   "execution_count": null,
   "metadata": {},
   "outputs": [],
   "source": [
    "from dataset import Dataset\n",
    "dataset_loader = Dataset(config)\n",
    "train_dataset, validation_dataset = dataset_loader.load_data()\n",
    "\n",
    "print(validation_dataset[:1])  "
   ]
  },
  {
   "cell_type": "markdown",
   "metadata": {},
   "source": [
    "## Prompt Engineer"
   ]
  },
  {
   "cell_type": "code",
   "execution_count": null,
   "metadata": {},
   "outputs": [],
   "source": [
    "from prompt_engineer import PromptGenerator\n",
    "promptgenerator = PromptGenerator(config,validation_dataset)"
   ]
  },
  {
   "cell_type": "code",
   "execution_count": null,
   "metadata": {},
   "outputs": [],
   "source": [
    "prompt = promptgenerator.generate_prompt_by_id(1)\n",
    "len(promptgenerator.get_unused_indices())\n",
    "print(prompt)"
   ]
  },
  {
   "cell_type": "code",
   "execution_count": null,
   "metadata": {},
   "outputs": [],
   "source": [
    "prompts =promptgenerator.generate_prompts_by_count(5)\n",
    "len(promptgenerator.get_unused_indices())"
   ]
  },
  {
   "cell_type": "markdown",
   "metadata": {},
   "source": [
    "## model"
   ]
  },
  {
   "cell_type": "code",
   "execution_count": null,
   "metadata": {},
   "outputs": [],
   "source": [
    "from models import HuggingfaceModel\n",
    "os.environ[\"CUDA_VISIBLE_DEVICES\"] = \"0,1\""
   ]
  },
  {
   "cell_type": "code",
   "execution_count": null,
   "metadata": {},
   "outputs": [],
   "source": [
    "huggingface_model = HuggingfaceModel(config)"
   ]
  },
  {
   "cell_type": "code",
   "execution_count": null,
   "metadata": {},
   "outputs": [],
   "source": [
    "#temperature=1.0,return_full=False\n",
    "output_text = huggingface_model.predict(prompt)\n",
    "print(\"Generated Text > \\n\", output_text)"
   ]
  },
  {
   "cell_type": "code",
   "execution_count": null,
   "metadata": {},
   "outputs": [],
   "source": [
    "import math\n",
    "\n",
    "user_tag = \"USER:\"\n",
    "assistant_tag = \"ASSISTANT:\"\n",
    "input = \"What is the capital of France?\"\n",
    "v = huggingface_model.get_p_true(input,\"Washington\")\n",
    "probability = math.exp(v)\n",
    "print(f\"Probability: {probability:.4f}\")\n",
    "\n",
    "\n",
    "v = huggingface_model.get_p_true(input,\"Paris\")\n",
    "probability = math.exp(v)\n",
    "print(f\"Probability: {probability:.4f}\")\n",
    "\n",
    "\n",
    "v = huggingface_model.get_p_true(input,\"Beijing\")\n",
    "probability = math.exp(v)\n",
    "print(f\"Probability: {probability:.4f}\")\n",
    "\n",
    "v = huggingface_model.get_p_true(input,\"\\n\")\n",
    "probability = math.exp(v)\n",
    "print(f\"Probability: {probability:.4f}\")"
   ]
  },
  {
   "cell_type": "code",
   "execution_count": null,
   "metadata": {},
   "outputs": [],
   "source": [
    "input_text = prompts[1]\n",
    "\n",
    "output_text,log = huggingface_model.predict(input_text)\n",
    "print(\"<Generated Text>:\", output_text)\n",
    "print(log)"
   ]
  },
  {
   "cell_type": "code",
   "execution_count": null,
   "metadata": {},
   "outputs": [],
   "source": [
    "from samplers import Sampler\n",
    "\n",
    "sampler = Sampler(prompt,huggingface_model,sample_method=\"simple\")"
   ]
  },
  {
   "cell_type": "code",
   "execution_count": null,
   "metadata": {},
   "outputs": [],
   "source": [
    "sampler.sample(8)\n",
    "sampler.show_all_result()"
   ]
  }
 ],
 "metadata": {
  "kernelspec": {
   "display_name": "semantic_uncertainty",
   "language": "python",
   "name": "python3"
  },
  "language_info": {
   "codemirror_mode": {
    "name": "ipython",
    "version": 3
   },
   "file_extension": ".py",
   "mimetype": "text/x-python",
   "name": "python",
   "nbconvert_exporter": "python",
   "pygments_lexer": "ipython3",
   "version": "3.11.10"
  }
 },
 "nbformat": 4,
 "nbformat_minor": 2
}
