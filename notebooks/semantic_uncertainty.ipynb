{
 "cells": [
  {
   "cell_type": "code",
   "execution_count": 1,
   "metadata": {},
   "outputs": [],
   "source": [
    "%load_ext autoreload\n",
    "%autoreload 2"
   ]
  },
  {
   "cell_type": "code",
   "execution_count": 2,
   "metadata": {},
   "outputs": [],
   "source": [
    "import sys\n",
    "import os\n",
    "os.chdir(\"/home/yw699/codes/LLM-Hallu\")\n",
    "sys.path.append(os.path.abspath(\"src\"))\n",
    "os.environ[\"CUDA_VISIBLE_DEVICES\"] = \"6,7\""
   ]
  },
  {
   "cell_type": "code",
   "execution_count": 3,
   "metadata": {},
   "outputs": [],
   "source": [
    "import yaml\n",
    "import math\n",
    "from dataset import Dataset\n",
    "from prompt_engineer import PromptGenerator\n",
    "from models import HuggingfaceModel\n",
    "from utils import *\n",
    "from metrics import *\n",
    "import logging\n",
    "import wandb\n",
    "from tqdm import tqdm\n",
    "import gc\n",
    "import torch\n",
    "import numpy as np\n",
    "import random"
   ]
  },
  {
   "cell_type": "code",
   "execution_count": 4,
   "metadata": {},
   "outputs": [],
   "source": [
    "setup_logger()"
   ]
  },
  {
   "cell_type": "code",
   "execution_count": 5,
   "metadata": {},
   "outputs": [],
   "source": [
    "with open(\"configs/experiment_config1.yaml\", \"r\") as file:\n",
    "    config = yaml.safe_load(file)\n",
    "    \n",
    "wandb_config = config[\"wandb\"]\n",
    "metrics_config = config[\"metrics\"]\n",
    "experiment_details = {'config': config}"
   ]
  },
  {
   "cell_type": "code",
   "execution_count": 6,
   "metadata": {},
   "outputs": [
    {
     "name": "stderr",
     "output_type": "stream",
     "text": [
      "\u001b[34m\u001b[1mwandb\u001b[0m: Using wandb-core as the SDK backend.  Please refer to https://wandb.me/wandb-core for more information.\n",
      "\u001b[34m\u001b[1mwandb\u001b[0m: Currently logged in as: \u001b[33myupuwang2001\u001b[0m (\u001b[33myupuwang2001-duke-university\u001b[0m). Use \u001b[1m`wandb login --relogin`\u001b[0m to force relogin\n"
     ]
    },
    {
     "data": {
      "text/html": [
       "Tracking run with wandb version 0.18.6"
      ],
      "text/plain": [
       "<IPython.core.display.HTML object>"
      ]
     },
     "metadata": {},
     "output_type": "display_data"
    },
    {
     "data": {
      "text/html": [
       "Run data is saved locally in <code>./yw699/None/wandb/run-20241119_121432-98xycf4u</code>"
      ],
      "text/plain": [
       "<IPython.core.display.HTML object>"
      ]
     },
     "metadata": {},
     "output_type": "display_data"
    },
    {
     "data": {
      "text/html": [
       "Syncing run <strong><a href='https://wandb.ai/yupuwang2001-duke-university/test/runs/98xycf4u' target=\"_blank\">treasured-smoke-24</a></strong> to <a href='https://wandb.ai/yupuwang2001-duke-university/test' target=\"_blank\">Weights & Biases</a> (<a href='https://wandb.me/developer-guide' target=\"_blank\">docs</a>)<br/>"
      ],
      "text/plain": [
       "<IPython.core.display.HTML object>"
      ]
     },
     "metadata": {},
     "output_type": "display_data"
    },
    {
     "data": {
      "text/html": [
       " View project at <a href='https://wandb.ai/yupuwang2001-duke-university/test' target=\"_blank\">https://wandb.ai/yupuwang2001-duke-university/test</a>"
      ],
      "text/plain": [
       "<IPython.core.display.HTML object>"
      ]
     },
     "metadata": {},
     "output_type": "display_data"
    },
    {
     "data": {
      "text/html": [
       " View run at <a href='https://wandb.ai/yupuwang2001-duke-university/test/runs/98xycf4u' target=\"_blank\">https://wandb.ai/yupuwang2001-duke-university/test/runs/98xycf4u</a>"
      ],
      "text/plain": [
       "<IPython.core.display.HTML object>"
      ]
     },
     "metadata": {},
     "output_type": "display_data"
    },
    {
     "name": "stderr",
     "output_type": "stream",
     "text": [
      "2024-11-19 12:14:33 INFO     Finished wandb init.\n"
     ]
    }
   ],
   "source": [
    "user = os.environ['USER']\n",
    "slurm_jobid = os.getenv('SLURM_JOB_ID', None)\n",
    "scratch_dir = os.getenv('SCRATCH_DIR', '.')\n",
    "entity = os.getenv('WANDB_SEM_UNC_ENTITY', None)\n",
    "\n",
    "dir = f\"{scratch_dir}/{user}/{entity}\"\n",
    "if not os.path.exists(dir):\n",
    "        os.makedirs(dir)\n",
    "project = config[\"wandb\"][\"project\"]\n",
    "\n",
    "if config[\"wandb\"][\"debug\"]:\n",
    "    project = f\"{project}_debug\"\n",
    "\n",
    "experiment_lot = config[\"wandb\"]['experiment_lot']\n",
    "notes=f'slurm_id: {slurm_jobid}, experiment_lot: {experiment_lot}'\n",
    "\n",
    "wandb.init(\n",
    "    entity=entity,\n",
    "    project= project,\n",
    "    dir=dir,\n",
    "    config=config,\n",
    "    notes=notes,\n",
    ")\n",
    "\n",
    "logging.info('Finished wandb init.')"
   ]
  },
  {
   "cell_type": "code",
   "execution_count": 7,
   "metadata": {},
   "outputs": [
    {
     "name": "stderr",
     "output_type": "stream",
     "text": [
      "2024-11-19 12:14:35 INFO     Train dataset: Dataset({\n",
      "    features: ['id', 'title', 'context', 'question', 'answers'],\n",
      "    num_rows: 130319\n",
      "})\n"
     ]
    }
   ],
   "source": [
    "dataset_loader = Dataset(config)\n",
    "train_dataset, validation_dataset = dataset_loader.load_data()\n",
    "\n",
    "\n",
    "if not isinstance(train_dataset, list):\n",
    "        logging.info('Train dataset: %s', train_dataset)\n",
    "\n",
    "answerable_indices, unanswerable_indices = split_dataset(train_dataset)\n",
    "\n",
    "\n",
    "if config[\"dataset\"]['answerable_only']:\n",
    "        unanswerable_indices = []\n",
    "        val_answerable, val_unanswerable = split_dataset(validation_dataset)\n",
    "        del val_unanswerable\n",
    "        validation_dataset = [validation_dataset[i] for i in val_answerable]\n",
    "        train_dataset = [train_dataset[i] for i in answerable_indices]\n"
   ]
  },
  {
   "cell_type": "code",
   "execution_count": 8,
   "metadata": {},
   "outputs": [
    {
     "name": "stderr",
     "output_type": "stream",
     "text": [
      "2024-11-19 12:14:56 INFO     Prompt is: Answer the following question as briefly as possible.\n",
      "Context: According to Strabo, the Greco-Bactrians seem to have had contacts with China through the silk road trade routes (Strabo, XI.XI.I). Indian sources also maintain religious contact between Buddhist monks and the Greeks, and some Greco-Bactrians did convert to Buddhism. Demetrius, son and successor of Euthydemus, invaded north-western India in 180 BC, after the destruction of the Mauryan empire there; the Mauryans were probably allies of the Bactrians (and Seleucids). The exact justification for the invasion remains unclear, but by about 175 BC, the Greeks ruled over parts of north-western India. This period also marks the beginning of the obfuscation of Greco-Bactrian history. Demetrius possibly died about 180 BC; numismatic evidence suggest the existence of several other kings shortly thereafter. It is probable that at this point that the Greco-Bactrian kingdom split into several semi-independent regions for some years, often warring amongst themselves. Heliocles was the last Greek to clearly rule Bactria, his power collapsing in the face of central Asian tribal invasions (Scythian and Yuezhi), by about 130 BCE. However, Greek urban civilisation seems to have continued in Bactria after the fall of the kingdom, having a hellenising effect on the tribes which had displaced Greek-rule. The Kushan empire which followed continued to use Greek on their coinage and Greeks continued being influential in the empire.\n",
      "Question: Whose death signifies the beginning of confusing documentation of Greco-Bactrian history?\n",
      "Answer: Demetrius\n",
      "\n",
      "Answer the following question as briefly as possible.\n",
      "Context: For those with severe persistent asthma not controlled by inhaled corticosteroids and LABAs, bronchial thermoplasty may be an option. It involves the delivery of controlled thermal energy to the airway wall during a series of bronchoscopies. While it may increase exacerbation frequency in the first few months it appears to decrease the subsequent rate. Effects beyond one year are unknown. Evidence suggests that sublingual immunotherapy in those with both allergic rhinitis and asthma improve outcomes.\n",
      "Question: What type of person would use bronchial thermoplasty as an option?\n",
      "Answer: For those with severe persistent asthma not controlled by inhaled corticosteroids and LABAs\n",
      "\n",
      "\n"
     ]
    }
   ],
   "source": [
    "# The prompt is used in every sampling process.\n",
    "promptgenerator = PromptGenerator(config,train_dataset)\n",
    "few_shot_prompt,prompt_indices = promptgenerator.construct_fewshot_prompt_by_nums(2)\n",
    "experiment_details['prompt_indices'] = prompt_indices\n",
    "experiment_details['prompt'] = few_shot_prompt\n",
    "experiment_details['BRIEF'] = promptgenerator.BRIEF\n",
    "logging.info('Prompt is: %s', few_shot_prompt)"
   ]
  },
  {
   "cell_type": "code",
   "execution_count": 9,
   "metadata": {},
   "outputs": [
    {
     "data": {
      "application/vnd.jupyter.widget-view+json": {
       "model_id": "2f30ceaecb944d11a965362bcf0a97ea",
       "version_major": 2,
       "version_minor": 0
      },
      "text/plain": [
       "Loading checkpoint shards:   0%|          | 0/2 [00:00<?, ?it/s]"
      ]
     },
     "metadata": {},
     "output_type": "display_data"
    }
   ],
   "source": [
    "huggingface_model = HuggingfaceModel(config)"
   ]
  },
  {
   "cell_type": "code",
   "execution_count": 10,
   "metadata": {},
   "outputs": [],
   "source": [
    "metric = get_metric('squad')\n",
    "validation_promptgenerator = PromptGenerator(config,validation_dataset)\n",
    "p_true_evaluator = PTrueEvaluator(config,huggingface_model,promptgenerator,validation_promptgenerator,metric,experiment_details)"
   ]
  },
  {
   "cell_type": "code",
   "execution_count": 11,
   "metadata": {},
   "outputs": [
    {
     "name": "stderr",
     "output_type": "stream",
     "text": [
      "2024-11-19 12:15:07 INFO     ################################################################################\n",
      "2024-11-19 12:15:07 INFO     Constructing few-shot prompt for p_true.\n",
      "2024-11-19 12:15:07 INFO     P_TRUE >> Current Question: Answer the following question as briefly as possible.\n",
      "Context: After receiving his J.D. from Boston College Law School, Kerry worked in Massachusetts as an Assistant District Attorney. He served as Lieutenant Governor of Massachusetts under Michael Dukakis from 1983 to 1985 and was elected to the U.S. Senate in 1984 and was sworn in the following January. On the Senate Foreign Relations Committee, he led a series of hearings from 1987 to 1989 which were a precursor to the Iran–Contra affair. Kerry was re-elected to additional terms in 1990, 1996, 2002 and 2008. In 2002, Kerry voted to authorize the President \"to use force, if necessary, to disarm Saddam Hussein\", but warned that the administration should exhaust its diplomatic avenues before launching war.\n",
      "Question: Who was Kerry an Lt. Gov. for?\n",
      "Answer:\n",
      "2024-11-19 12:15:09 INFO     P_TRUE >> Current Response: Michael Dukakis\n",
      "2024-11-19 12:15:09 INFO     P_TRUE >> LOW-T >> true answer:    ['Michael Dukakis']\n",
      "2024-11-19 12:15:09 INFO     P_TRUE >> LOW-T >> acc:            1.0\n",
      "2024-11-19 12:15:09 INFO     P_TRUE >> Current Response: Michael Dukakis\n",
      "2024-11-19 12:15:09 INFO     P_TRUE >> Current Response: Massachusetts\n",
      "2024-11-19 12:15:10 INFO     P_TRUE >> Current Response: Michael Dukakis\n",
      "2024-11-19 12:15:10 INFO     P_TRUE >> Current Response: Michael Dukakis\n",
      "2024-11-19 12:15:11 INFO     P_TRUE >> Current Response: Michael Dukakis\n",
      "2024-11-19 12:15:11 INFO     P_TRUE >> Current Question: Answer the following question as briefly as possible.\n",
      "Context: For temperature studies, subjects must remain awake but calm and semi-reclined in near darkness while their rectal temperatures are taken continuously. Though variation is great among normal chronotypes, the average human adult's temperature reaches its minimum at about 05:00 (5 a.m.), about two hours before habitual wake time. Baehr et al. found that, in young adults, the daily body temperature minimum occurred at about 04:00 (4 a.m.) for morning types but at about 06:00 (6 a.m.) for evening types. This minimum occurred at approximately the middle of the eight hour sleep period for morning types, but closer to waking in evening types.\n",
      "Question: What is the time of lowest temperature for evening type young adults?\n",
      "Answer:\n",
      "2024-11-19 12:15:11 INFO     P_TRUE >> Current Response: 06:00 (6 a.m.)\n",
      "2024-11-19 12:15:11 INFO     P_TRUE >> LOW-T >> true answer:    ['06:00']\n",
      "2024-11-19 12:15:11 INFO     P_TRUE >> LOW-T >> acc:            1.0\n",
      "2024-11-19 12:15:12 INFO     P_TRUE >> Current Response: 06:00 (6 a.m.)\n",
      "2024-11-19 12:15:13 INFO     P_TRUE >> Current Response: about 06:00 (6 a.m.)\n",
      "2024-11-19 12:15:14 INFO     P_TRUE >> Current Response: About 06:00 (6 a.m.)\n",
      "2024-11-19 12:15:14 INFO     P_TRUE >> Current Response: about 06:00 (6 a.m.)\n",
      "2024-11-19 12:15:15 INFO     P_TRUE >> Current Response: About 06:00 (6 a.m.)\n",
      "2024-11-19 12:15:15 INFO     P_TRUE >> Current Question: Answer the following question as briefly as possible.\n",
      "Context: Sound could be stored in either analog or digital format and in a variety of surround sound formats; NTSC discs could carry two analog audio tracks, plus two uncompressed PCM digital audio tracks, which were (EFM, CIRC, 16-bit and 44.056 kHz sample rate). PAL discs could carry one pair of audio tracks, either analog or digital and the digital tracks on a PAL disc were 16-bit 44.1 kHz as on a CD; in the UK, the term \"LaserVision\" is used to refer to discs with analog sound, while \"LaserDisc\" is used for those with digital audio. The digital sound signal in both formats are EFM-encoded as in CD. Dolby Digital (also called AC-3) and DTS—which are now common on DVD titles—first became available on LaserDisc, and Star Wars: Episode I – The Phantom Menace (1999) which was released on LaserDisc in Japan, is among the first home video releases ever to include 6.1 channel Dolby Digital EX Surround. Unlike DVDs, which carry Dolby Digital audio in digital form, LaserDiscs store Dolby Digital in a frequency modulated form within a track normally used for analog audio. Extracting Dolby Digital from a LaserDisc required a player equipped with a special \"AC-3 RF\" output and an external demodulator in addition to an AC-3 decoder. The demodulator was necessary to convert the 2.88 MHz modulated AC-3 information on the disc into a 384 kbit/s signal that the decoder could handle. DTS audio, when available on a disc, replaced the digital audio tracks; hearing DTS sound required only an S/PDIF compliant digital connection to a DTS decoder.\n",
      "Question: What sound formatting do DVDs use?\n",
      "Answer:\n",
      "2024-11-19 12:15:15 INFO     P_TRUE >> Current Response: Dolby Digital\n",
      "2024-11-19 12:15:15 INFO     P_TRUE >> LOW-T >> true answer:    ['Dolby Digital audio in digital form']\n",
      "2024-11-19 12:15:15 INFO     P_TRUE >> LOW-T >> acc:            1.0\n",
      "2024-11-19 12:15:16 INFO     P_TRUE >> Current Response: Dolby Digital\n",
      "2024-11-19 12:15:17 INFO     P_TRUE >> Current Response: Dolby Digital (also called AC-3) and DTS\n",
      "2024-11-19 12:15:17 INFO     P_TRUE >> Current Response: Dolby Digital, Dolby Digital EX and DTS\n",
      "2024-11-19 12:15:18 INFO     P_TRUE >> Current Response: Dolby Digital\n",
      "2024-11-19 12:15:18 INFO     P_TRUE >> Current Response: Dolby Digital\n",
      "2024-11-19 12:15:18 INFO     Finished constructing few-shot prompt for p_true.\n",
      "2024-11-19 12:15:18 INFO     ################################################################################\n",
      "2024-11-19 12:15:18 INFO     p_true_few_shot_prompt: Question: Who was Kerry an Lt. Gov. for?\n",
      "Brainstormed Answers: Michael Dukakis \n",
      "Michael Dukakis \n",
      "Massachusetts \n",
      "Michael Dukakis \n",
      "Michael Dukakis \n",
      "Michael Dukakis \n",
      "Possible answer: Michael Dukakis\n",
      "Is the possible answer:\n",
      "A) True\n",
      "B) False\n",
      "The possible answer is: A\n",
      "Question: What is the time of lowest temperature for evening type young adults?\n",
      "Brainstormed Answers: 06:00 (6 a.m.) \n",
      "06:00 (6 a.m.) \n",
      "about 06:00 (6 a.m.) \n",
      "About 06:00 (6 a.m.) \n",
      "about 06:00 (6 a.m.) \n",
      "About 06:00 (6 a.m.) \n",
      "Possible answer: 06:00 (6 a.m.)\n",
      "Is the possible answer:\n",
      "A) True\n",
      "B) False\n",
      "The possible answer is: A\n",
      "Question: What sound formatting do DVDs use?\n",
      "Brainstormed Answers: Dolby Digital \n",
      "Dolby Digital \n",
      "Dolby Digital (also called AC-3) and DTS \n",
      "Dolby Digital, Dolby Digital EX and DTS \n",
      "Dolby Digital \n",
      "Dolby Digital \n",
      "Possible answer: Dolby Digital\n",
      "Is the possible answer:\n",
      "A) True\n",
      "B) False\n",
      "The possible answer is: A\n",
      "2024-11-19 12:15:18 INFO     ################################################################################\n"
     ]
    }
   ],
   "source": [
    "for m in metrics_config:\n",
    "    metric_name = m.get(\"name\")\n",
    "    if metric_name == \"p_true\":\n",
    "        logging.info(80*'#')\n",
    "        logging.info('Constructing few-shot prompt for p_true.')\n",
    "        p_true_few_shot_prompt, p_true_responses, len_p_true,p_true_indices = p_true_evaluator.construct_few_shot_prompt_for_p_true(few_shot_prompt,5,3)\n",
    "        wandb.config.update({'p_true_num_fewshot': len_p_true}, allow_val_change=True)\n",
    "        wandb.log(dict(len_p_true=len_p_true))\n",
    "        experiment_details['p_true_indices'] = p_true_indices\n",
    "        experiment_details['p_true_responses'] = p_true_responses\n",
    "        experiment_details['p_true_few_shot_prompt'] = p_true_few_shot_prompt\n",
    "        logging.info('Finished constructing few-shot prompt for p_true.')\n",
    "        logging.info(80*'#')\n",
    "        logging.info('p_true_few_shot_prompt: %s', p_true_few_shot_prompt)\n",
    "        logging.info(80*'#')"
   ]
  },
  {
   "cell_type": "code",
   "execution_count": 12,
   "metadata": {},
   "outputs": [
    {
     "name": "stderr",
     "output_type": "stream",
     "text": [
      "2024-11-19 12:15:18 INFO     xxxxxxxxxxxxxxxxxxxxxxxxxxxxxxxxxxxxxxxxxxxxxxxxxxxxxxxxxxxxxxxxxxxxxxxxxxxxxxxx\n",
      "2024-11-19 12:15:18 INFO     Starting with dataset_split train.\n",
      "2024-11-19 12:15:18 INFO     xxxxxxxxxxxxxxxxxxxxxxxxxxxxxxxxxxxxxxxxxxxxxxxxxxxxxxxxxxxxxxxxxxxxxxxxxxxxxxxx\n",
      "2024-11-19 12:15:18 INFO     Unused items in train dataset: 86819\n",
      "  0%|          | 0/3 [00:00<?, ?it/s]2024-11-19 12:15:18 INFO     Iteration 0:  ################################################################################\n",
      "2024-11-19 12:15:18 INFO     Current input: Answer the following question as briefly as possible.\n",
      "Context: Central Catalan is considered the standard pronunciation of the language. The descriptions below are mostly for this variety. For the differences in pronunciation of the different dialects, see the section pronunciation of dialects in this article.\n",
      "Question: What are the descriptions for?\n",
      "Answer:\n",
      "2024-11-19 12:15:18 INFO     context:       Central Catalan is considered the standard pronunciation of the language. The descriptions below are mostly for this variety. For the differences in pronunciation of the different dialects, see the section pronunciation of dialects in this article.\n",
      "2024-11-19 12:15:18 INFO     question:      What are the descriptions for?\n",
      "2024-11-19 12:15:18 INFO     low-t prediction: Central Catalan\n",
      "2024-11-19 12:15:18 INFO     correct answer: ['standard pronunciation']\n",
      "2024-11-19 12:15:18 INFO     accuracy:      0.0\n",
      " 33%|███▎      | 1/3 [00:00<00:00,  3.25it/s]2024-11-19 12:15:19 INFO     Iteration 1:  ################################################################################\n",
      "2024-11-19 12:15:19 INFO     Current input: Answer the following question as briefly as possible.\n",
      "Context: In October 2014, it was announced that Beyoncé with her management company Parkwood Entertainment would be partnering with London-based fashion retailer Topshop, in a new 50/50 split subsidiary business named Parkwood Topshop Athletic Ltd. The new division was created for Topshop to break into the activewear market, with an athletic, street wear brand being produced. \"Creating a partnership with Beyoncé, one of the most hard-working and talented people in the world, who spends many hours of her life dancing, rehearsing and training is a unique opportunity to develop this category\" stated Sir Philip Green on the partnership. The company and collection is set to launch and hit stores in the fall of 2015.\n",
      "Question: Who did Beyoncé and Parkwood Entertainment partner with in October 2014?\n",
      "Answer:\n",
      "2024-11-19 12:15:19 INFO     context:       In October 2014, it was announced that Beyoncé with her management company Parkwood Entertainment would be partnering with London-based fashion retailer Topshop, in a new 50/50 split subsidiary business named Parkwood Topshop Athletic Ltd. The new division was created for Topshop to break into the activewear market, with an athletic, street wear brand being produced. \"Creating a partnership with Beyoncé, one of the most hard-working and talented people in the world, who spends many hours of her life dancing, rehearsing and training is a unique opportunity to develop this category\" stated Sir Philip Green on the partnership. The company and collection is set to launch and hit stores in the fall of 2015.\n",
      "2024-11-19 12:15:19 INFO     question:      Who did Beyoncé and Parkwood Entertainment partner with in October 2014?\n",
      "2024-11-19 12:15:19 INFO     low-t prediction: London-based fashion retailer Topshop\n",
      "2024-11-19 12:15:19 INFO     correct answer: ['Topshop']\n",
      "2024-11-19 12:15:19 INFO     accuracy:      0.0\n",
      " 67%|██████▋   | 2/3 [00:00<00:00,  2.07it/s]2024-11-19 12:15:20 INFO     Iteration 2:  ################################################################################\n",
      "2024-11-19 12:15:20 INFO     Current input: Answer the following question as briefly as possible.\n",
      "Context: Several private institutions of higher learning—ranging from liberal arts colleges, such as The University of St. Thomas, Houston's only Catholic university, to Rice University, the nationally recognized research university—are located within the city. Rice, with a total enrollment of slightly more than 6,000 students, has a number of distinguished graduate programs and research institutes, such as the James A. Baker Institute for Public Policy. Houston Baptist University, affiliated with the Baptist General Convention of Texas, offers bachelor's and graduate degrees. It was founded in 1960 and is located in the Sharpstown area in Southwest Houston.\n",
      "Question: What is Houston's one Catholic university?\n",
      "Answer:\n",
      "2024-11-19 12:15:20 INFO     context:       Several private institutions of higher learning—ranging from liberal arts colleges, such as The University of St. Thomas, Houston's only Catholic university, to Rice University, the nationally recognized research university—are located within the city. Rice, with a total enrollment of slightly more than 6,000 students, has a number of distinguished graduate programs and research institutes, such as the James A. Baker Institute for Public Policy. Houston Baptist University, affiliated with the Baptist General Convention of Texas, offers bachelor's and graduate degrees. It was founded in 1960 and is located in the Sharpstown area in Southwest Houston.\n",
      "2024-11-19 12:15:20 INFO     question:      What is Houston's one Catholic university?\n",
      "2024-11-19 12:15:20 INFO     low-t prediction: The University of St. Thomas\n",
      "2024-11-19 12:15:20 INFO     correct answer: ['The University of St. Thomas']\n",
      "2024-11-19 12:15:20 INFO     accuracy:      1.0\n",
      "100%|██████████| 3/3 [00:01<00:00,  2.20it/s]\n",
      "2024-11-19 12:15:20 INFO     Overall train split accuracy: 0.3333333333333333\n",
      "2024-11-19 12:15:20 INFO     Unused items in train dataset: 5928\n",
      "  0%|          | 0/3 [00:00<?, ?it/s]2024-11-19 12:15:20 INFO     Iteration 0:  ################################################################################\n",
      "2024-11-19 12:15:20 INFO     Current input: Answer the following question as briefly as possible.\n",
      "Context: One computer model of future climate change caused by greenhouse gas emissions shows that the Amazon rainforest could become unsustainable under conditions of severely reduced rainfall and increased temperatures, leading to an almost complete loss of rainforest cover in the basin by 2100. However, simulations of Amazon basin climate change across many different models are not consistent in their estimation of any rainfall response, ranging from weak increases to strong decreases. The result indicates that the rainforest could be threatened though the 21st century by climate change in addition to deforestation.\n",
      "Question: If one computer model turns out correct, by what year would there be a nearly complete loss of rainforest in the Amazon basin?\n",
      "Answer:\n",
      "2024-11-19 12:15:20 INFO     context:       One computer model of future climate change caused by greenhouse gas emissions shows that the Amazon rainforest could become unsustainable under conditions of severely reduced rainfall and increased temperatures, leading to an almost complete loss of rainforest cover in the basin by 2100. However, simulations of Amazon basin climate change across many different models are not consistent in their estimation of any rainfall response, ranging from weak increases to strong decreases. The result indicates that the rainforest could be threatened though the 21st century by climate change in addition to deforestation.\n",
      "2024-11-19 12:15:20 INFO     question:      If one computer model turns out correct, by what year would there be a nearly complete loss of rainforest in the Amazon basin?\n",
      "2024-11-19 12:15:20 INFO     low-t prediction: 2100\n",
      "2024-11-19 12:15:20 INFO     correct answer: ['2100', 'by 2100', '2100']\n",
      "2024-11-19 12:15:20 INFO     accuracy:      1.0\n",
      "2024-11-19 12:15:20 INFO     high-t prediction 1 : 2100\n",
      "2024-11-19 12:15:21 INFO     high-t prediction 2 : 2100\n",
      "2024-11-19 12:15:21 INFO     p_true: -0.09142444282770157\n",
      " 33%|███▎      | 1/3 [00:01<00:02,  1.33s/it]"
     ]
    },
    {
     "name": "stdout",
     "output_type": "stream",
     "text": [
      "Question: Who was Kerry an Lt. Gov. for?\n",
      "Brainstormed Answers: Michael Dukakis \n",
      "Michael Dukakis \n",
      "Massachusetts \n",
      "Michael Dukakis \n",
      "Michael Dukakis \n",
      "Michael Dukakis \n",
      "Possible answer: Michael Dukakis\n",
      "Is the possible answer:\n",
      "A) True\n",
      "B) False\n",
      "The possible answer is: A\n",
      "Question: What is the time of lowest temperature for evening type young adults?\n",
      "Brainstormed Answers: 06:00 (6 a.m.) \n",
      "06:00 (6 a.m.) \n",
      "about 06:00 (6 a.m.) \n",
      "About 06:00 (6 a.m.) \n",
      "about 06:00 (6 a.m.) \n",
      "About 06:00 (6 a.m.) \n",
      "Possible answer: 06:00 (6 a.m.)\n",
      "Is the possible answer:\n",
      "A) True\n",
      "B) False\n",
      "The possible answer is: A\n",
      "Question: What sound formatting do DVDs use?\n",
      "Brainstormed Answers: Dolby Digital \n",
      "Dolby Digital \n",
      "Dolby Digital (also called AC-3) and DTS \n",
      "Dolby Digital, Dolby Digital EX and DTS \n",
      "Dolby Digital \n",
      "Dolby Digital \n",
      "Possible answer: Dolby Digital\n",
      "Is the possible answer:\n",
      "A) True\n",
      "B) False\n",
      "The possible answer is: A\n",
      "Question: If one computer model turns out correct, by what year would there be a nearly complete loss of rainforest in the Amazon basin?\n",
      "Brainstormed Answers: 2100\n",
      "2100\n",
      "2100\n",
      "Possible answer: 2100\n",
      "Is the possible answer:\n",
      "A) True\n",
      "B) False\n",
      "The possible answer is: A\n"
     ]
    },
    {
     "name": "stderr",
     "output_type": "stream",
     "text": [
      "2024-11-19 12:15:21 INFO     Iteration 1:  ################################################################################\n",
      "2024-11-19 12:15:21 INFO     Current input: Answer the following question as briefly as possible.\n",
      "Context: Other predecessors of the Reformed church included the pro-reform and Gallican Roman Catholics, such as Jacques Lefevre (c. 1455–1536). The Gallicans briefly achieved independence for the French church, on the principle that the religion of France could not be controlled by the Bishop of Rome, a foreign power. During the Protestant Reformation, Lefevre, a professor at the University of Paris, published his French translation of the New Testament in 1523, followed by the whole Bible in the French language in 1530. William Farel was a student of Lefevre who went on to become a leader of the Swiss Reformation, establishing a Protestant government in Geneva. Jean Cauvin (John Calvin), another student at the University of Paris, also converted to Protestantism. Long after the sect was suppressed by Francis I, the remaining French Waldensians, then mostly in the Luberon region, sought to join William Farel, Calvin and the Reformation, and Olivetan published a French Bible for them. The French Confession of 1559 shows a decidedly Calvinistic influence. Sometime between 1550 and 1580, members of the Reformed church in France came to be commonly known as Huguenots.[citation needed]\n",
      "Question: Who was one French pro-reform Roman Catholic of the 15th century? \n",
      "Answer:\n",
      "2024-11-19 12:15:21 INFO     context:       Other predecessors of the Reformed church included the pro-reform and Gallican Roman Catholics, such as Jacques Lefevre (c. 1455–1536). The Gallicans briefly achieved independence for the French church, on the principle that the religion of France could not be controlled by the Bishop of Rome, a foreign power. During the Protestant Reformation, Lefevre, a professor at the University of Paris, published his French translation of the New Testament in 1523, followed by the whole Bible in the French language in 1530. William Farel was a student of Lefevre who went on to become a leader of the Swiss Reformation, establishing a Protestant government in Geneva. Jean Cauvin (John Calvin), another student at the University of Paris, also converted to Protestantism. Long after the sect was suppressed by Francis I, the remaining French Waldensians, then mostly in the Luberon region, sought to join William Farel, Calvin and the Reformation, and Olivetan published a French Bible for them. The French Confession of 1559 shows a decidedly Calvinistic influence. Sometime between 1550 and 1580, members of the Reformed church in France came to be commonly known as Huguenots.[citation needed]\n",
      "2024-11-19 12:15:21 INFO     question:      Who was one French pro-reform Roman Catholic of the 15th century? \n",
      "2024-11-19 12:15:21 INFO     low-t prediction: Jacques Lefevre\n",
      "2024-11-19 12:15:21 INFO     correct answer: ['Jacques Lefevre', 'Jacques Lefevre', 'Jacques Lefevre']\n",
      "2024-11-19 12:15:21 INFO     accuracy:      1.0\n",
      "2024-11-19 12:15:22 INFO     high-t prediction 1 : Jacques Lefevre\n",
      "2024-11-19 12:15:22 INFO     high-t prediction 2 : Jacques Lefevre\n",
      "2024-11-19 12:15:22 INFO     p_true: -0.09675531834363937\n",
      " 67%|██████▋   | 2/3 [00:02<00:01,  1.31s/it]"
     ]
    },
    {
     "name": "stdout",
     "output_type": "stream",
     "text": [
      "Question: Who was Kerry an Lt. Gov. for?\n",
      "Brainstormed Answers: Michael Dukakis \n",
      "Michael Dukakis \n",
      "Massachusetts \n",
      "Michael Dukakis \n",
      "Michael Dukakis \n",
      "Michael Dukakis \n",
      "Possible answer: Michael Dukakis\n",
      "Is the possible answer:\n",
      "A) True\n",
      "B) False\n",
      "The possible answer is: A\n",
      "Question: What is the time of lowest temperature for evening type young adults?\n",
      "Brainstormed Answers: 06:00 (6 a.m.) \n",
      "06:00 (6 a.m.) \n",
      "about 06:00 (6 a.m.) \n",
      "About 06:00 (6 a.m.) \n",
      "about 06:00 (6 a.m.) \n",
      "About 06:00 (6 a.m.) \n",
      "Possible answer: 06:00 (6 a.m.)\n",
      "Is the possible answer:\n",
      "A) True\n",
      "B) False\n",
      "The possible answer is: A\n",
      "Question: What sound formatting do DVDs use?\n",
      "Brainstormed Answers: Dolby Digital \n",
      "Dolby Digital \n",
      "Dolby Digital (also called AC-3) and DTS \n",
      "Dolby Digital, Dolby Digital EX and DTS \n",
      "Dolby Digital \n",
      "Dolby Digital \n",
      "Possible answer: Dolby Digital\n",
      "Is the possible answer:\n",
      "A) True\n",
      "B) False\n",
      "The possible answer is: A\n",
      "Question: Who was one French pro-reform Roman Catholic of the 15th century? \n",
      "Brainstormed Answers: Jacques Lefevre\n",
      "Jacques Lefevre\n",
      "Jacques Lefevre\n",
      "Possible answer: Jacques Lefevre\n",
      "Is the possible answer:\n",
      "A) True\n",
      "B) False\n",
      "The possible answer is: A\n"
     ]
    },
    {
     "name": "stderr",
     "output_type": "stream",
     "text": [
      "2024-11-19 12:15:23 INFO     Iteration 2:  ################################################################################\n",
      "2024-11-19 12:15:23 INFO     Current input: Answer the following question as briefly as possible.\n",
      "Context: In science, alumni include astronomers Carl Sagan, a prominent contributor to the scientific research of extraterrestrial life, and Edwin Hubble, known for \"Hubble's Law\", NASA astronaut John M. Grunsfeld, geneticist James Watson, best known as one of the co-discoverers of the structure of DNA, experimental physicist Luis Alvarez, popular environmentalist David Suzuki, balloonist Jeannette Piccard, biologists Ernest Everett Just and Lynn Margulis, computer scientist Richard Hamming, the creator of the Hamming Code, lithium-ion battery developer John B. Goodenough, mathematician and Fields Medal recipient Paul Joseph Cohen, and geochemist Clair Cameron Patterson, who developed the uranium-lead dating method into lead-lead dating. Nuclear physicist and researcher Stanton Friedman, who worked on some early projects involving nuclear-powered spacecraft propulsion systems, is also a graduate (M.Sc).\n",
      "Question: What NASA astronaut is also a university alumni member?\n",
      "Answer:\n",
      "2024-11-19 12:15:23 INFO     context:       In science, alumni include astronomers Carl Sagan, a prominent contributor to the scientific research of extraterrestrial life, and Edwin Hubble, known for \"Hubble's Law\", NASA astronaut John M. Grunsfeld, geneticist James Watson, best known as one of the co-discoverers of the structure of DNA, experimental physicist Luis Alvarez, popular environmentalist David Suzuki, balloonist Jeannette Piccard, biologists Ernest Everett Just and Lynn Margulis, computer scientist Richard Hamming, the creator of the Hamming Code, lithium-ion battery developer John B. Goodenough, mathematician and Fields Medal recipient Paul Joseph Cohen, and geochemist Clair Cameron Patterson, who developed the uranium-lead dating method into lead-lead dating. Nuclear physicist and researcher Stanton Friedman, who worked on some early projects involving nuclear-powered spacecraft propulsion systems, is also a graduate (M.Sc).\n",
      "2024-11-19 12:15:23 INFO     question:      What NASA astronaut is also a university alumni member?\n",
      "2024-11-19 12:15:23 INFO     low-t prediction: John M. Grunsfeld\n",
      "2024-11-19 12:15:23 INFO     correct answer: ['John M. Grunsfeld', 'John M. Grunsfeld', 'John M. Grunsfeld']\n",
      "2024-11-19 12:15:23 INFO     accuracy:      1.0\n",
      "2024-11-19 12:15:23 INFO     high-t prediction 1 : John M. Grunsfeld\n",
      "2024-11-19 12:15:24 INFO     high-t prediction 2 : John M. Grunsfeld\n",
      "2024-11-19 12:15:24 INFO     p_true: -0.06965090334415436\n",
      "100%|██████████| 3/3 [00:04<00:00,  1.43s/it]\n",
      "2024-11-19 12:15:24 INFO     Overall validation split accuracy: 1.0\n",
      "2024-11-19 12:15:24 INFO     Run complete.\n"
     ]
    },
    {
     "name": "stdout",
     "output_type": "stream",
     "text": [
      "Question: Who was Kerry an Lt. Gov. for?\n",
      "Brainstormed Answers: Michael Dukakis \n",
      "Michael Dukakis \n",
      "Massachusetts \n",
      "Michael Dukakis \n",
      "Michael Dukakis \n",
      "Michael Dukakis \n",
      "Possible answer: Michael Dukakis\n",
      "Is the possible answer:\n",
      "A) True\n",
      "B) False\n",
      "The possible answer is: A\n",
      "Question: What is the time of lowest temperature for evening type young adults?\n",
      "Brainstormed Answers: 06:00 (6 a.m.) \n",
      "06:00 (6 a.m.) \n",
      "about 06:00 (6 a.m.) \n",
      "About 06:00 (6 a.m.) \n",
      "about 06:00 (6 a.m.) \n",
      "About 06:00 (6 a.m.) \n",
      "Possible answer: 06:00 (6 a.m.)\n",
      "Is the possible answer:\n",
      "A) True\n",
      "B) False\n",
      "The possible answer is: A\n",
      "Question: What sound formatting do DVDs use?\n",
      "Brainstormed Answers: Dolby Digital \n",
      "Dolby Digital \n",
      "Dolby Digital (also called AC-3) and DTS \n",
      "Dolby Digital, Dolby Digital EX and DTS \n",
      "Dolby Digital \n",
      "Dolby Digital \n",
      "Possible answer: Dolby Digital\n",
      "Is the possible answer:\n",
      "A) True\n",
      "B) False\n",
      "The possible answer is: A\n",
      "Question: What NASA astronaut is also a university alumni member?\n",
      "Brainstormed Answers: John M. Grunsfeld\n",
      "John M. Grunsfeld\n",
      "John M. Grunsfeld\n",
      "Possible answer: John M. Grunsfeld\n",
      "Is the possible answer:\n",
      "A) True\n",
      "B) False\n",
      "The possible answer is: A\n"
     ]
    }
   ],
   "source": [
    "\n",
    "p_true_evaluator.all_evaluate(few_shot_prompt,1.0,2,p_true_few_shot_prompt,3)"
   ]
  },
  {
   "cell_type": "code",
   "execution_count": 13,
   "metadata": {},
   "outputs": [
    {
     "name": "stdout",
     "output_type": "stream",
     "text": [
      "{'config': {'wandb': {'debug': False, 'project': 'test', 'experiment_lot': 'MyExperiment'}, 'dataset': {'name': 'squad', 'seed': 42, 'answerable_only': True}, 'prompt': {'few-shot': False, 'shot_num': 3, 'brief_always': True, 'use_context': True, 'add_tag': True, 'prompt_template_path': '/home/yw699/codes/LLM-Hallu/data/prompt_templates/ask_templates/test2.txt'}, 'model': {'model_name': 'meta-llama/Llama-2-7b-hf', 'stop_sequences': 'default', 'max_new_tokens': 50}, 'sample': {'temperature': 1.0, 'sample_count': 5, 'sampling_method': 'simple_sample'}, 'metrics': [{'name': 'p_true', 'p_true_num_fewshot': 2}, {'name': 'accuracy'}, {'name': 'diversity'}], 'p_true': {'compute_p_true': True, 'get_training_set_generations': True, 'get_training_set_generations_most_likely_only': True, 'compute_accuracy_at_all_temps': True, 'p_true_hint': False}}, 'prompt_indices': [36010, 59002], 'prompt': 'Answer the following question as briefly as possible.\\nContext: According to Strabo, the Greco-Bactrians seem to have had contacts with China through the silk road trade routes (Strabo, XI.XI.I). Indian sources also maintain religious contact between Buddhist monks and the Greeks, and some Greco-Bactrians did convert to Buddhism. Demetrius, son and successor of Euthydemus, invaded north-western India in 180 BC, after the destruction of the Mauryan empire there; the Mauryans were probably allies of the Bactrians (and Seleucids). The exact justification for the invasion remains unclear, but by about 175 BC, the Greeks ruled over parts of north-western India. This period also marks the beginning of the obfuscation of Greco-Bactrian history. Demetrius possibly died about 180 BC; numismatic evidence suggest the existence of several other kings shortly thereafter. It is probable that at this point that the Greco-Bactrian kingdom split into several semi-independent regions for some years, often warring amongst themselves. Heliocles was the last Greek to clearly rule Bactria, his power collapsing in the face of central Asian tribal invasions (Scythian and Yuezhi), by about 130 BCE. However, Greek urban civilisation seems to have continued in Bactria after the fall of the kingdom, having a hellenising effect on the tribes which had displaced Greek-rule. The Kushan empire which followed continued to use Greek on their coinage and Greeks continued being influential in the empire.\\nQuestion: Whose death signifies the beginning of confusing documentation of Greco-Bactrian history?\\nAnswer: Demetrius\\n\\nAnswer the following question as briefly as possible.\\nContext: For those with severe persistent asthma not controlled by inhaled corticosteroids and LABAs, bronchial thermoplasty may be an option. It involves the delivery of controlled thermal energy to the airway wall during a series of bronchoscopies. While it may increase exacerbation frequency in the first few months it appears to decrease the subsequent rate. Effects beyond one year are unknown. Evidence suggests that sublingual immunotherapy in those with both allergic rhinitis and asthma improve outcomes.\\nQuestion: What type of person would use bronchial thermoplasty as an option?\\nAnswer: For those with severe persistent asthma not controlled by inhaled corticosteroids and LABAs\\n\\n', 'BRIEF': 'Answer the following question as briefly as possible.\\n', 'p_true_indices': [65661, 31262, 59048], 'p_true_responses': {65661: {'responses': ['Michael Dukakis', 'Michael Dukakis', 'Massachusetts', 'Michael Dukakis', 'Michael Dukakis', 'Michael Dukakis'], 'most_likely_response': 'Michael Dukakis', 'is_correct': 1.0}, 31262: {'responses': ['06:00 (6 a.m.)', '06:00 (6 a.m.)', 'about 06:00 (6 a.m.)', 'About 06:00 (6 a.m.)', 'about 06:00 (6 a.m.)', 'About 06:00 (6 a.m.)'], 'most_likely_response': '06:00 (6 a.m.)', 'is_correct': 1.0}, 59048: {'responses': ['Dolby Digital', 'Dolby Digital', 'Dolby Digital (also called AC-3) and DTS', 'Dolby Digital, Dolby Digital EX and DTS', 'Dolby Digital', 'Dolby Digital'], 'most_likely_response': 'Dolby Digital', 'is_correct': 1.0}}, 'p_true_few_shot_prompt': 'Question: Who was Kerry an Lt. Gov. for?\\nBrainstormed Answers: Michael Dukakis \\nMichael Dukakis \\nMassachusetts \\nMichael Dukakis \\nMichael Dukakis \\nMichael Dukakis \\nPossible answer: Michael Dukakis\\nIs the possible answer:\\nA) True\\nB) False\\nThe possible answer is: A\\nQuestion: What is the time of lowest temperature for evening type young adults?\\nBrainstormed Answers: 06:00 (6 a.m.) \\n06:00 (6 a.m.) \\nabout 06:00 (6 a.m.) \\nAbout 06:00 (6 a.m.) \\nabout 06:00 (6 a.m.) \\nAbout 06:00 (6 a.m.) \\nPossible answer: 06:00 (6 a.m.)\\nIs the possible answer:\\nA) True\\nB) False\\nThe possible answer is: A\\nQuestion: What sound formatting do DVDs use?\\nBrainstormed Answers: Dolby Digital \\nDolby Digital \\nDolby Digital (also called AC-3) and DTS \\nDolby Digital, Dolby Digital EX and DTS \\nDolby Digital \\nDolby Digital \\nPossible answer: Dolby Digital\\nIs the possible answer:\\nA) True\\nB) False\\nThe possible answer is: A', 'train': {'indices': [12699, 680, 23929]}, 'validation': {'indices': [1870, 877, 3723]}}\n"
     ]
    }
   ],
   "source": [
    "print(experiment_details)"
   ]
  }
 ],
 "metadata": {
  "kernelspec": {
   "display_name": "semantic_uncertainty",
   "language": "python",
   "name": "python3"
  },
  "language_info": {
   "codemirror_mode": {
    "name": "ipython",
    "version": 3
   },
   "file_extension": ".py",
   "mimetype": "text/x-python",
   "name": "python",
   "nbconvert_exporter": "python",
   "pygments_lexer": "ipython3",
   "version": "3.11.10"
  }
 },
 "nbformat": 4,
 "nbformat_minor": 2
}
