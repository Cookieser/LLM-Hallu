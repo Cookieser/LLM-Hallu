{
 "cells": [
  {
   "cell_type": "code",
   "execution_count": 1,
   "metadata": {},
   "outputs": [],
   "source": [
    "from huggingface_models import *\n",
    "\n",
    "%load_ext autoreload\n",
    "%autoreload 2"
   ]
  },
  {
   "cell_type": "code",
   "execution_count": 7,
   "metadata": {},
   "outputs": [
    {
     "data": {
      "application/vnd.jupyter.widget-view+json": {
       "model_id": "51f4bcdcda734864942ce2cd33226948",
       "version_major": 2,
       "version_minor": 0
      },
      "text/plain": [
       "Loading checkpoint shards:   0%|          | 0/2 [00:00<?, ?it/s]"
      ]
     },
     "metadata": {},
     "output_type": "display_data"
    }
   ],
   "source": [
    "model_name = \"meta-llama/Llama-2-7b-hf\"\n",
    "huggingface_model = HuggingfaceModel(model_name=model_name, stop_sequences=\"default\", max_new_tokens=50)"
   ]
  },
  {
   "cell_type": "code",
   "execution_count": 18,
   "metadata": {},
   "outputs": [
    {
     "name": "stdout",
     "output_type": "stream",
     "text": [
      "Generated Text: What is the capital of France?/nFrance is a country that is located in Western Europe. France is a country that is located in Western Europe. Paris is the capital of France. It is the largest city in France and the second largest city in the European Union. Paris is a city\n"
     ]
    }
   ],
   "source": [
    "input_text = \"What is the capital of France?/n\"\n",
    "\n",
    "output_text = huggingface_model.predict(input_text, temperature=0.7,return_full=True)\n",
    "print(\"Generated Text:\", output_text)\n",
    "#print(log)"
   ]
  },
  {
   "cell_type": "code",
   "execution_count": 23,
   "metadata": {},
   "outputs": [
    {
     "name": "stdout",
     "output_type": "stream",
     "text": [
      "-----------------------------------\n",
      "What is the capital of France?\n",
      "What is the capital of France? Paris is the capital of France.\n",
      "\n",
      "-----------------------------------\n",
      "Generated Text: What is the capital of France? Paris is the capital of France.\n",
      "[0.0, 0.0, 0.0, 0.0, 0.0, 0.0, 0.0, 0.0, -0.09163712710142136, 0.0, 0.0, 0.0, 0.0, 0.0]\n"
     ]
    }
   ],
   "source": [
    "input_text = \"What is the capital of France?\\n\"\n",
    "\n",
    "output_text,log = huggingface_model.predict(input_text, temperature=0.1)\n",
    "print(\"Generated Text:\", output_text)\n",
    "print(log)"
   ]
  }
 ],
 "metadata": {
  "kernelspec": {
   "display_name": "semantic_uncertainty",
   "language": "python",
   "name": "python3"
  },
  "language_info": {
   "codemirror_mode": {
    "name": "ipython",
    "version": 3
   },
   "file_extension": ".py",
   "mimetype": "text/x-python",
   "name": "python",
   "nbconvert_exporter": "python",
   "pygments_lexer": "ipython3",
   "version": "3.11.10"
  }
 },
 "nbformat": 4,
 "nbformat_minor": 2
}
