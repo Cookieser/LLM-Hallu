{
 "cells": [
  {
   "cell_type": "code",
   "execution_count": 1,
   "metadata": {},
   "outputs": [],
   "source": [
    "%load_ext autoreload\n",
    "%autoreload 2\n",
    "\n",
    "\n",
    "import sys\n",
    "import os\n",
    "os.environ[\"CUDA_VISIBLE_DEVICES\"] = \"6,7\""
   ]
  },
  {
   "cell_type": "code",
   "execution_count": 5,
   "metadata": {},
   "outputs": [],
   "source": [
    "\n",
    "def extract_option(response):\n",
    "    \"\"\"\n",
    "    Supposed format: 'a.', 'a)', '(a)', 'A.', 'B)', 'A', 'A' A-D\n",
    "\n",
    "    Args:\n",
    "        response (str): 模型生成的回答。\n",
    "\n",
    "    Returns:\n",
    "        str or None: lower choice,like 'a'; no legel None\n",
    "    \"\"\"\n",
    "    match = re.search(r'(?<!\\w)([a-dA-D])(?![\\w])|(?<!\\w)\\(?([a-dA-D])[\\.\\)]', response.strip())\n",
    "    if match:\n",
    "        return (match.group(1) or match.group(2)).lower() \n",
    "    return None  "
   ]
  },
  {
   "cell_type": "code",
   "execution_count": 6,
   "metadata": {},
   "outputs": [],
   "source": [
    "def metric(response, example, *args, **kwargs):\n",
    "\n",
    "    # Compatibility with recomputation.\n",
    "    if 'id' in example:\n",
    "        exid = example['id']\n",
    "    elif 'id' in example['reference']:\n",
    "        exid = example['reference']['id']\n",
    "    else:\n",
    "        raise ValueError\n",
    "    predicted_option = extract_option(response)\n",
    "    correct_option = example['answers']['text'].strip(\"()\").lower()\n",
    "    if predicted_option is None:\n",
    "        return 0.0\n",
    "    return 1.0 if predicted_option == correct_option else 0.0"
   ]
  },
  {
   "cell_type": "code",
   "execution_count": null,
   "metadata": {},
   "outputs": [],
   "source": [
    "conversation_1 = [\n",
    "    {\n",
    "        \"role\": \"user\",\n",
    "        \"content\": [\n",
    "            {\"type\": \"image\"},\n",
    "            {\"type\": \"text\", \"text\": \"What is shown in this image?\"},\n",
    "            ],\n",
    "    },\n",
    "    {\n",
    "        \"role\": \"assistant\",\n",
    "        \"content\": [\n",
    "            {\"type\": \"text\", \"text\": \"There is a red stop sign in the image.\"},\n",
    "            ],\n",
    "    },\n",
    "    {\n",
    "        \"role\": \"user\",\n",
    "        \"content\": [\n",
    "            {\"type\": \"image\"},\n",
    "            {\"type\": \"text\", \"text\": \"What about this image? How many cats do you see?\"},\n",
    "            ],\n",
    "    },\n",
    "]"
   ]
  },
  {
   "cell_type": "code",
   "execution_count": null,
   "metadata": {},
   "outputs": [],
   "source": [
    "prompt_indices,train_dataset\n",
    "\n",
    "prompt_images\n",
    "prompt_1 = processor.apply_chat_template(conversation, add_generation_prompt=True)\n",
    "inputs = processor(images=[image_stop, image_cats, image_snowman], text=prompt_1, padding=True, return_tensors=\"pt\")"
   ]
  },
  {
   "cell_type": "code",
   "execution_count": null,
   "metadata": {},
   "outputs": [],
   "source": [
    "if isinstance(image_file, str):\n",
    "            if is_valid_url(image_file):\n",
    "                response = requests.get(image_file, stream=True)\n",
    "                if response.status_code == 200:\n",
    "                    raw_image = Image.open(requests.get(image_file, stream=True).raw).convert(\"RGB\")\n",
    "                else:\n",
    "                    raise ValueError(f\"Failed to fetch image from URL: {image_file}, HTTP status code: {response.status_code}\")\n",
    "            else:\n",
    "                raw_image = Image.open(image_file).convert(\"RGB\")\n",
    "        else:\n",
    "            raise ValueError(\"image_file must be a URL or local file path\")"
   ]
  }
 ],
 "metadata": {
  "kernelspec": {
   "display_name": "semantic_uncertainty",
   "language": "python",
   "name": "python3"
  },
  "language_info": {
   "codemirror_mode": {
    "name": "ipython",
    "version": 3
   },
   "file_extension": ".py",
   "mimetype": "text/x-python",
   "name": "python",
   "nbconvert_exporter": "python",
   "pygments_lexer": "ipython3",
   "version": "3.11.10"
  }
 },
 "nbformat": 4,
 "nbformat_minor": 2
}
