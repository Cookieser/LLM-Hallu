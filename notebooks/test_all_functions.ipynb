{
 "cells": [
  {
   "cell_type": "code",
   "execution_count": null,
   "metadata": {},
   "outputs": [],
   "source": [
    "%load_ext autoreload\n",
    "%autoreload 2"
   ]
  },
  {
   "cell_type": "code",
   "execution_count": null,
   "metadata": {},
   "outputs": [],
   "source": [
    "import sys\n",
    "import os\n",
    "os.chdir(\"/home/yw699/codes/LLM-Hallu\")\n",
    "sys.path.append(os.path.abspath(\"src\"))"
   ]
  },
  {
   "cell_type": "markdown",
   "metadata": {},
   "source": [
    "## 读取配置文件"
   ]
  },
  {
   "cell_type": "code",
   "execution_count": null,
   "metadata": {},
   "outputs": [],
   "source": [
    "import yaml\n",
    "with open(\"configs/experiment_config1.yaml\", \"r\") as file:\n",
    "    config = yaml.safe_load(file)"
   ]
  },
  {
   "cell_type": "markdown",
   "metadata": {},
   "source": [
    "## Dataset加载与格式化"
   ]
  },
  {
   "cell_type": "code",
   "execution_count": 4,
   "metadata": {},
   "outputs": [
    {
     "name": "stdout",
     "output_type": "stream",
     "text": [
      "{'id': '56ddde6b9a695914005b962a', 'title': 'Normans', 'context': 'The Normans (Norman: Nourmands; French: Normands; Latin: Normanni) were the people who in the 10th and 11th centuries gave their name to Normandy, a region in France. They were descended from Norse (\"Norman\" comes from \"Norseman\") raiders and pirates from Denmark, Iceland and Norway who, under their leader Rollo, agreed to swear fealty to King Charles III of West Francia. Through generations of assimilation and mixing with the native Frankish and Roman-Gaulish populations, their descendants would gradually merge with the Carolingian-based cultures of West Francia. The distinct cultural and ethnic identity of the Normans emerged initially in the first half of the 10th century, and it continued to evolve over the succeeding centuries.', 'question': 'From which countries did the Norse originate?', 'answers': {'text': ['Denmark, Iceland and Norway', 'Denmark, Iceland and Norway', 'Denmark, Iceland and Norway', 'Denmark, Iceland and Norway'], 'answer_start': [256, 256, 256, 256]}}\n"
     ]
    }
   ],
   "source": [
    "from utils import *\n",
    "from dataset import Dataset\n",
    "dataset_loader = Dataset(config)\n",
    "train_dataset, validation_dataset = dataset_loader.load_data()\n",
    "print(validation_dataset[2])  \n",
    "\n",
    "if not isinstance(train_dataset, list):\n",
    "        logging.info('Train dataset: %s', train_dataset)\n",
    "\n",
    "answerable_indices, unanswerable_indices = split_dataset(train_dataset)\n",
    "\n",
    "\n",
    "if config[\"dataset\"]['answerable_only']:\n",
    "        unanswerable_indices = []\n",
    "        val_answerable, val_unanswerable = split_dataset(validation_dataset)\n",
    "        del val_unanswerable\n",
    "        validation_dataset = [validation_dataset[i] for i in val_answerable]"
   ]
  },
  {
   "cell_type": "markdown",
   "metadata": {},
   "source": [
    "## Prompt Engineer"
   ]
  },
  {
   "cell_type": "code",
   "execution_count": 5,
   "metadata": {},
   "outputs": [],
   "source": [
    "from prompt_engineer import PromptGenerator\n",
    "\n",
    "promptgenerator = PromptGenerator(config,validation_dataset)"
   ]
  },
  {
   "cell_type": "code",
   "execution_count": 6,
   "metadata": {},
   "outputs": [
    {
     "name": "stdout",
     "output_type": "stream",
     "text": [
      "USER: When were the Normans in Normandy?\n",
      "ASSISTANT:\n",
      "5927\n"
     ]
    }
   ],
   "source": [
    "prompt = promptgenerator.generate_template_prompt_by_id(1)\n",
    "print(prompt)\n",
    "print(len(promptgenerator.get_unused_indices()))\n"
   ]
  },
  {
   "cell_type": "code",
   "execution_count": 7,
   "metadata": {},
   "outputs": [
    {
     "name": "stdout",
     "output_type": "stream",
     "text": [
      "USER: When were the Normans in Normandy?\n",
      "ASSISTANT:\n",
      "5925\n"
     ]
    }
   ],
   "source": [
    "prompts = promptgenerator.generate_template_prompts_by_count(2)\n",
    "print(prompt)\n",
    "print(len(promptgenerator.get_unused_indices()))"
   ]
  },
  {
   "cell_type": "code",
   "execution_count": 8,
   "metadata": {},
   "outputs": [
    {
     "name": "stdout",
     "output_type": "stream",
     "text": [
      "[195, 4955]\n"
     ]
    },
    {
     "data": {
      "text/plain": [
       "5923"
      ]
     },
     "execution_count": 8,
     "metadata": {},
     "output_type": "execute_result"
    }
   ],
   "source": [
    "import random\n",
    "indices = random.sample(promptgenerator.get_unused_indices(),2)\n",
    "print(indices)\n",
    "prompts =promptgenerator.generate_template_prompts_from_indices(indices)\n",
    "len(promptgenerator.get_unused_indices())"
   ]
  },
  {
   "cell_type": "code",
   "execution_count": 9,
   "metadata": {},
   "outputs": [
    {
     "name": "stdout",
     "output_type": "stream",
     "text": [
      "Answer the following question as briefly as possible.\n",
      "Context: The origin of electric and magnetic fields would not be fully explained until 1864 when James Clerk Maxwell unified a number of earlier theories into a set of 20 scalar equations, which were later reformulated into 4 vector equations by Oliver Heaviside and Josiah Willard Gibbs. These \"Maxwell Equations\" fully described the sources of the fields as being stationary and moving charges, and the interactions of the fields themselves. This led Maxwell to discover that electric and magnetic fields could be \"self-generating\" through a wave that traveled at a speed that he calculated to be the speed of light. This insight united the nascent fields of electromagnetic theory with optics and led directly to a complete description of the electromagnetic spectrum.\n",
      "Question: How many vector equations did Heaviside and Gibbs reformilate Maxwell's 20 scalar equtions into?\n",
      "Answer: 4\n",
      "\n",
      "Answer the following question as briefly as possible.\n",
      "Context: Oxygen, as a supposed mild euphoric, has a history of recreational use in oxygen bars and in sports. Oxygen bars are establishments, found in Japan, California, and Las Vegas, Nevada since the late 1990s that offer higher than normal O\n",
      "2 exposure for a fee. Professional athletes, especially in American football, also sometimes go off field between plays to wear oxygen masks in order to get a \"boost\" in performance. The pharmacological effect is doubtful; a placebo effect is a more likely explanation. Available studies support a performance boost from enriched O\n",
      "2 mixtures only if they are breathed during aerobic exercise.\n",
      "Question: As a euphoric how is oxygen used in bars?\n",
      "Answer: recreational\n",
      "\n",
      "Answer the following question as briefly as possible.\n",
      "Context: In a purely capitalist mode of production (i.e. where professional and labor organizations cannot limit the number of workers) the workers wages will not be controlled by these organizations, or by the employer, but rather by the market. Wages work in the same way as prices for any other good. Thus, wages can be considered as a function of market price of skill. And therefore, inequality is driven by this price. Under the law of supply and demand, the price of skill is determined by a race between the demand for the skilled worker and the supply of the skilled worker. \"On the other hand, markets can also concentrate wealth, pass environmental costs on to society, and abuse workers and consumers.\" \"Markets, by themselves, even when they are stable, often lead to high levels of inequality, outcomes that are widely viewed as unfair.\" Employers who offer a below market wage will find that their business is chronically understaffed. Their competitors will take advantage of the situation by offering a higher wage the best of their labor. For a businessman who has the profit motive as the prime interest, it is a losing proposition to offer below or above market wages to workers.\n",
      "Question: What can be considered as a function of market price of skill?\n",
      "Answer: wages\n",
      "\n",
      "\n"
     ]
    }
   ],
   "source": [
    "example_indices = random.sample(promptgenerator.get_unused_indices(),3)\n",
    "few_shot_prompt = promptgenerator.construct_fewshot_prompt_from_indices(example_indices)\n",
    "print(few_shot_prompt)"
   ]
  },
  {
   "cell_type": "code",
   "execution_count": 12,
   "metadata": {},
   "outputs": [
    {
     "name": "stdout",
     "output_type": "stream",
     "text": [
      "5920\n"
     ]
    }
   ],
   "source": [
    "print(len(promptgenerator.get_unused_indices()))"
   ]
  },
  {
   "cell_type": "markdown",
   "metadata": {},
   "source": [
    "## model"
   ]
  },
  {
   "cell_type": "code",
   "execution_count": 13,
   "metadata": {},
   "outputs": [],
   "source": [
    "from models import HuggingfaceModel\n",
    "os.environ[\"CUDA_VISIBLE_DEVICES\"] = \"0,1\""
   ]
  },
  {
   "cell_type": "code",
   "execution_count": 14,
   "metadata": {},
   "outputs": [
    {
     "data": {
      "application/vnd.jupyter.widget-view+json": {
       "model_id": "97ec039c11c54a3e9f4c48586fb7c5ab",
       "version_major": 2,
       "version_minor": 0
      },
      "text/plain": [
       "Loading checkpoint shards:   0%|          | 0/2 [00:00<?, ?it/s]"
      ]
     },
     "metadata": {},
     "output_type": "display_data"
    }
   ],
   "source": [
    "huggingface_model = HuggingfaceModel(config)"
   ]
  },
  {
   "cell_type": "code",
   "execution_count": 15,
   "metadata": {},
   "outputs": [
    {
     "name": "stdout",
     "output_type": "stream",
     "text": [
      "Generated Text > \n",
      " ('During the 11th and 12th century AD.', [-3.776052474975586, -0.087731271982193, -1.5151315927505493, -0.09163712710142136, -0.6989476084709167, 0.0, -1.1278303861618042, 0.0, 0.0, 0.0, 0.0, -2.4496536254882812, -3.4961366653442383, -0.3642231822013855])\n"
     ]
    }
   ],
   "source": [
    "#temperature=1.0,return_full=False\n",
    "output_text = huggingface_model.predict(prompt)\n",
    "print(\"Generated Text > \\n\", output_text)"
   ]
  },
  {
   "cell_type": "code",
   "execution_count": 16,
   "metadata": {},
   "outputs": [
    {
     "name": "stdout",
     "output_type": "stream",
     "text": [
      "What is the capital of France? Washington\n",
      "Probability: 0.0080\n",
      "What is the capital of France? Paris\n",
      "Probability: 0.2130\n",
      "What is the capital of France? Beijing\n",
      "Probability: 0.0314\n",
      "What is the capital of France? \n",
      "\n",
      "Probability: 0.0092\n"
     ]
    }
   ],
   "source": [
    "import math\n",
    "\n",
    "user_tag = \"USER:\"\n",
    "assistant_tag = \"ASSISTANT:\"\n",
    "input = \"What is the capital of France?\"\n",
    "v = huggingface_model.get_p_true(input,\"Washington\")\n",
    "probability = math.exp(v)\n",
    "print(f\"Probability: {probability:.4f}\")\n",
    "\n",
    "\n",
    "v = huggingface_model.get_p_true(input,\"Paris\")\n",
    "probability = math.exp(v)\n",
    "print(f\"Probability: {probability:.4f}\")\n",
    "\n",
    "\n",
    "v = huggingface_model.get_p_true(input,\"Beijing\")\n",
    "probability = math.exp(v)\n",
    "print(f\"Probability: {probability:.4f}\")\n",
    "\n",
    "v = huggingface_model.get_p_true(input,\"\\n\")\n",
    "probability = math.exp(v)\n",
    "print(f\"Probability: {probability:.4f}\")"
   ]
  },
  {
   "cell_type": "code",
   "execution_count": 17,
   "metadata": {},
   "outputs": [
    {
     "name": "stdout",
     "output_type": "stream",
     "text": [
      "<Generated Text>: The Mubarak regime?\n",
      "[-1.094968318939209, -4.177267551422119, -2.4182448387145996, 0.0, 0.0, -0.2782438099384308, -3.365988254547119]\n"
     ]
    }
   ],
   "source": [
    "input_text = prompts[1]\n",
    "\n",
    "output_text,log = huggingface_model.predict(input_text)\n",
    "print(\"<Generated Text>:\", output_text)\n",
    "print(log)"
   ]
  },
  {
   "cell_type": "code",
   "execution_count": 18,
   "metadata": {},
   "outputs": [],
   "source": [
    "from samplers import Sampler\n",
    "\n",
    "sampler = Sampler(prompt,huggingface_model,sample_method=\"simple\")"
   ]
  },
  {
   "cell_type": "code",
   "execution_count": 19,
   "metadata": {},
   "outputs": [
    {
     "name": "stdout",
     "output_type": "stream",
     "text": [
      "Use the 'simple' Method in the temperature 0.1:\n",
      "Sample 1: The Normans were in Normandy from 911 to 1066.\n",
      "Sample 2: In the 11th century.\n",
      "Sample 3: The Normans were in Normandy from 911 to 1066.\n",
      "Sample 4: They were there in 1066.\n",
      "Sample 5: In 1066.\n",
      "Sample 6: The Normans were in Normandy from 911 to 1066.\n",
      "Sample 7: In the 11th century.\n",
      "Sample 8: They were there in 1066.\n"
     ]
    }
   ],
   "source": [
    "sampler.sample(8)\n",
    "sampler.show_all_result()"
   ]
  }
 ],
 "metadata": {
  "kernelspec": {
   "display_name": "semantic_uncertainty",
   "language": "python",
   "name": "python3"
  },
  "language_info": {
   "codemirror_mode": {
    "name": "ipython",
    "version": 3
   },
   "file_extension": ".py",
   "mimetype": "text/x-python",
   "name": "python",
   "nbconvert_exporter": "python",
   "pygments_lexer": "ipython3",
   "version": "3.11.10"
  }
 },
 "nbformat": 4,
 "nbformat_minor": 2
}
