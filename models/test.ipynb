{
 "cells": [
  {
   "cell_type": "code",
   "execution_count": 1,
   "metadata": {},
   "outputs": [],
   "source": [
    "%load_ext autoreload\n",
    "%autoreload 2"
   ]
  },
  {
   "cell_type": "code",
   "execution_count": 2,
   "metadata": {},
   "outputs": [],
   "source": [
    "from huggingface_models import *\n",
    "os.environ[\"CUDA_VISIBLE_DEVICES\"] = \"0,1\""
   ]
  },
  {
   "cell_type": "code",
   "execution_count": 3,
   "metadata": {},
   "outputs": [
    {
     "data": {
      "application/vnd.jupyter.widget-view+json": {
       "model_id": "f6405e06beed4ca9a44e57358ff0772e",
       "version_major": 2,
       "version_minor": 0
      },
      "text/plain": [
       "Loading checkpoint shards:   0%|          | 0/2 [00:00<?, ?it/s]"
      ]
     },
     "metadata": {},
     "output_type": "display_data"
    }
   ],
   "source": [
    "model_name = \"meta-llama/Llama-2-7b-hf\"\n",
    "huggingface_model = HuggingfaceModel(model_name=model_name, stop_sequences=\"default\", max_new_tokens=50)"
   ]
  },
  {
   "cell_type": "code",
   "execution_count": 19,
   "metadata": {},
   "outputs": [
    {
     "name": "stdout",
     "output_type": "stream",
     "text": [
      "['USER:What is the capital of France?ASSISTANT:']\n"
     ]
    }
   ],
   "source": [
    "user_tag = \"USER:\"\n",
    "assistant_tag = \"ASSISTANT:\"\n",
    "all_questions = [\"What is the capital of France?\"]\n",
    "\n",
    "\n",
    "template_str = '{user_tag}{question}{assistant_tag}'\n",
    "input = [template_str.format(user_tag=user_tag,question = q,assistant_tag=assistant_tag) for q in all_questions]\n",
    "print(input)"
   ]
  },
  {
   "cell_type": "code",
   "execution_count": 21,
   "metadata": {},
   "outputs": [
    {
     "name": "stdout",
     "output_type": "stream",
     "text": [
      "Generated Text > \n",
      " USER:What is the capital of France?ASSISTANT:Paris\n",
      "\n"
     ]
    }
   ],
   "source": [
    "input_text = input[0]\n",
    "\n",
    "output_text = huggingface_model.predict(input_text, temperature=0.7,return_full=True)\n",
    "print(\"Generated Text > \\n\", output_text)\n",
    "#print(log)"
   ]
  },
  {
   "cell_type": "code",
   "execution_count": 18,
   "metadata": {},
   "outputs": [
    {
     "name": "stdout",
     "output_type": "stream",
     "text": [
      "USER: What is the capital of France?ASSISTANT: Paris.\n",
      "\n",
      "<Generated Text>: Paris.\n",
      "[0.0, 0.0]\n"
     ]
    }
   ],
   "source": [
    "input_text = input[0]\n",
    "\n",
    "output_text,log = huggingface_model.predict(input_text, temperature=0.1)\n",
    "print(\"<Generated Text>:\", output_text)\n",
    "print(log)"
   ]
  }
 ],
 "metadata": {
  "kernelspec": {
   "display_name": "semantic_uncertainty",
   "language": "python",
   "name": "python3"
  },
  "language_info": {
   "codemirror_mode": {
    "name": "ipython",
    "version": 3
   },
   "file_extension": ".py",
   "mimetype": "text/x-python",
   "name": "python",
   "nbconvert_exporter": "python",
   "pygments_lexer": "ipython3",
   "version": "3.11.10"
  }
 },
 "nbformat": 4,
 "nbformat_minor": 2
}
