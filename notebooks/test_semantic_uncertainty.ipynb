{
 "cells": [
  {
   "cell_type": "code",
   "execution_count": 1,
   "metadata": {},
   "outputs": [],
   "source": [
    "%load_ext autoreload\n",
    "%autoreload 2"
   ]
  },
  {
   "cell_type": "code",
   "execution_count": 2,
   "metadata": {},
   "outputs": [],
   "source": [
    "import sys\n",
    "import os\n",
    "os.chdir(\"/home/yw699/codes/LLM-Hallu\")\n",
    "sys.path.append(os.path.abspath(\"src\"))"
   ]
  },
  {
   "cell_type": "code",
   "execution_count": 4,
   "metadata": {},
   "outputs": [],
   "source": [
    "from uncertainty_measures import *"
   ]
  },
  {
   "cell_type": "code",
   "execution_count": 6,
   "metadata": {},
   "outputs": [
    {
     "data": {
      "application/vnd.jupyter.widget-view+json": {
       "model_id": "8aab728ad3214e6db9508584e4fe75ba",
       "version_major": 2,
       "version_minor": 0
      },
      "text/plain": [
       "tokenizer_config.json:   0%|          | 0.00/70.0 [00:00<?, ?B/s]"
      ]
     },
     "metadata": {},
     "output_type": "display_data"
    },
    {
     "data": {
      "application/vnd.jupyter.widget-view+json": {
       "model_id": "731ed64057c5412c8025566bdabc759a",
       "version_major": 2,
       "version_minor": 0
      },
      "text/plain": [
       "config.json:   0%|          | 0.00/952 [00:00<?, ?B/s]"
      ]
     },
     "metadata": {},
     "output_type": "display_data"
    },
    {
     "data": {
      "application/vnd.jupyter.widget-view+json": {
       "model_id": "bc95a3f1f68144e3975958b8e0f9c957",
       "version_major": 2,
       "version_minor": 0
      },
      "text/plain": [
       "spm.model:   0%|          | 0.00/2.45M [00:00<?, ?B/s]"
      ]
     },
     "metadata": {},
     "output_type": "display_data"
    },
    {
     "data": {
      "application/vnd.jupyter.widget-view+json": {
       "model_id": "1259be7ce24e4e17bbadeffd0d90e6b9",
       "version_major": 2,
       "version_minor": 0
      },
      "text/plain": [
       "pytorch_model.bin:   0%|          | 0.00/1.77G [00:00<?, ?B/s]"
      ]
     },
     "metadata": {},
     "output_type": "display_data"
    },
    {
     "name": "stdout",
     "output_type": "stream",
     "text": [
      "\n",
      "Checking implications between context and responses:\n",
      "Context -> 'The weather is good and I like you.' | Implication Result: 1 (2: entailment, 1: neutral, 0: contradiction)\n",
      "Context -> 'It is sunny outside.' | Implication Result: 1 (2: entailment, 1: neutral, 0: contradiction)\n",
      "Context -> 'The weather is terrible today.' | Implication Result: 0 (2: entailment, 1: neutral, 0: contradiction)\n",
      "Context -> 'The weather is good.' | Implication Result: 2 (2: entailment, 1: neutral, 0: contradiction)\n",
      "\n",
      "Grouping responses into semantic clusters:\n",
      "Semantic IDs: [0, 1, 2, 0]\n",
      "\n",
      "Cluster Assignment Entropy: 1.0397\n",
      "\n",
      "Predictive Entropy (Regular): 0.7500\n"
     ]
    }
   ],
   "source": [
    "entailment_model = EntailmentDeberta()\n",
    "\n",
    "context = \"The weather is good.\"\n",
    "responses = [\n",
    "    \"The weather is good and I like you.\",\n",
    "    \"It is sunny outside.\",\n",
    "    \"The weather is terrible today.\",\n",
    "    \"The weather is good.\"\n",
    "]\n",
    "\n",
    "# Step 1: 检查上下文是否支持每个生成文本\n",
    "print(\"\\nChecking implications between context and responses:\")\n",
    "for response in responses:\n",
    "    result = entailment_model.check_implication(context, response)\n",
    "    print(f\"Context -> '{response}' | Implication Result: {result} (2: entailment, 1: neutral, 0: contradiction)\")\n",
    "\n",
    "# Step 2: 按语义分组生成文本\n",
    "print(\"\\nGrouping responses into semantic clusters:\")\n",
    "semantic_ids = get_semantic_ids(responses, model=entailment_model)\n",
    "print(f\"Semantic IDs: {semantic_ids}\")\n",
    "\n",
    "# Step 3: 计算语义聚类的熵\n",
    "cluster_entropy = cluster_assignment_entropy(semantic_ids)\n",
    "print(f\"\\nCluster Assignment Entropy: {cluster_entropy:.4f}\")\n",
    "\n",
    "# Step 4: 模拟生成概率并计算预测熵\n",
    "log_probs = [-0.5, -0.7, -1.2, -0.6]  # 假设生成的对数概率\n",
    "regular_entropy = predictive_entropy(log_probs)\n",
    "print(f\"\\nPredictive Entropy (Regular): {regular_entropy:.4f}\")"
   ]
  },
  {
   "cell_type": "markdown",
   "metadata": {},
   "source": [
    "## 读取配置文件"
   ]
  },
  {
   "cell_type": "code",
   "execution_count": null,
   "metadata": {},
   "outputs": [],
   "source": [
    "import yaml\n",
    "with open(\"configs/experiment_config1.yaml\", \"r\") as file:\n",
    "    config = yaml.safe_load(file)"
   ]
  },
  {
   "cell_type": "markdown",
   "metadata": {},
   "source": [
    "## Dataset加载与格式化"
   ]
  },
  {
   "cell_type": "code",
   "execution_count": null,
   "metadata": {},
   "outputs": [],
   "source": [
    "from utils import *\n",
    "from dataset import Dataset\n",
    "dataset_loader = Dataset(config)\n",
    "train_dataset, validation_dataset = dataset_loader.load_data()\n",
    "print(validation_dataset[2])  \n",
    "\n",
    "if not isinstance(train_dataset, list):\n",
    "        logging.info('Train dataset: %s', train_dataset)\n",
    "\n",
    "answerable_indices, unanswerable_indices = split_dataset(train_dataset)\n",
    "\n",
    "\n",
    "if config[\"dataset\"]['answerable_only']:\n",
    "        unanswerable_indices = []\n",
    "        val_answerable, val_unanswerable = split_dataset(validation_dataset)\n",
    "        del val_unanswerable\n",
    "        validation_dataset = [validation_dataset[i] for i in val_answerable]"
   ]
  },
  {
   "cell_type": "markdown",
   "metadata": {},
   "source": [
    "## Prompt Engineer"
   ]
  },
  {
   "cell_type": "code",
   "execution_count": null,
   "metadata": {},
   "outputs": [],
   "source": [
    "from prompt_engineer import PromptGenerator\n",
    "\n",
    "promptgenerator = PromptGenerator(config,validation_dataset)"
   ]
  },
  {
   "cell_type": "code",
   "execution_count": null,
   "metadata": {},
   "outputs": [],
   "source": [
    "prompt = promptgenerator.generate_template_prompt_by_id(1)\n",
    "print(prompt)\n",
    "print(len(promptgenerator.get_unused_indices()))\n"
   ]
  },
  {
   "cell_type": "code",
   "execution_count": null,
   "metadata": {},
   "outputs": [],
   "source": [
    "prompts = promptgenerator.generate_template_prompts_by_count(2)\n",
    "print(prompt)\n",
    "print(len(promptgenerator.get_unused_indices()))"
   ]
  },
  {
   "cell_type": "code",
   "execution_count": null,
   "metadata": {},
   "outputs": [],
   "source": [
    "import random\n",
    "indices = random.sample(promptgenerator.get_unused_indices(),2)\n",
    "print(indices)\n",
    "prompts =promptgenerator.generate_template_prompts_from_indices(indices)\n",
    "len(promptgenerator.get_unused_indices())"
   ]
  },
  {
   "cell_type": "code",
   "execution_count": null,
   "metadata": {},
   "outputs": [],
   "source": [
    "few_shot_prompt = promptgenerator.construct_fewshot_prompt_from_indices()\n",
    "print(few_shot_prompt)\n",
    "print(len(promptgenerator.get_unused_indices()))"
   ]
  },
  {
   "cell_type": "markdown",
   "metadata": {},
   "source": [
    "## model"
   ]
  },
  {
   "cell_type": "code",
   "execution_count": null,
   "metadata": {},
   "outputs": [],
   "source": [
    "from models import HuggingfaceModel\n",
    "os.environ[\"CUDA_VISIBLE_DEVICES\"] = \"0,1\""
   ]
  },
  {
   "cell_type": "code",
   "execution_count": null,
   "metadata": {},
   "outputs": [],
   "source": [
    "huggingface_model = HuggingfaceModel(config)"
   ]
  },
  {
   "cell_type": "code",
   "execution_count": null,
   "metadata": {},
   "outputs": [],
   "source": [
    "#temperature=1.0,return_full=False\n",
    "output_text = huggingface_model.predict(prompt)\n",
    "print(\"Generated Text > \\n\", output_text)"
   ]
  },
  {
   "cell_type": "code",
   "execution_count": null,
   "metadata": {},
   "outputs": [],
   "source": [
    "import math\n",
    "\n",
    "user_tag = \"USER:\"\n",
    "assistant_tag = \"ASSISTANT:\"\n",
    "input = \"What is the capital of France?\"\n",
    "v = huggingface_model.get_p_true(input,\"Washington\")\n",
    "probability = math.exp(v)\n",
    "print(f\"Probability: {probability:.4f}\")\n",
    "\n",
    "\n",
    "v = huggingface_model.get_p_true(input,\"Paris\")\n",
    "probability = math.exp(v)\n",
    "print(f\"Probability: {probability:.4f}\")\n",
    "\n",
    "\n",
    "v = huggingface_model.get_p_true(input,\"Beijing\")\n",
    "probability = math.exp(v)\n",
    "print(f\"Probability: {probability:.4f}\")\n",
    "\n",
    "v = huggingface_model.get_p_true(input,\"\\n\")\n",
    "probability = math.exp(v)\n",
    "print(f\"Probability: {probability:.4f}\")"
   ]
  },
  {
   "cell_type": "code",
   "execution_count": null,
   "metadata": {},
   "outputs": [],
   "source": [
    "input_text = prompts[1]\n",
    "\n",
    "output_text,log = huggingface_model.predict(input_text)\n",
    "print(\"<Generated Text>:\", output_text)\n",
    "print(log)"
   ]
  }
 ],
 "metadata": {
  "kernelspec": {
   "display_name": "semantic_uncertainty",
   "language": "python",
   "name": "python3"
  },
  "language_info": {
   "codemirror_mode": {
    "name": "ipython",
    "version": 3
   },
   "file_extension": ".py",
   "mimetype": "text/x-python",
   "name": "python",
   "nbconvert_exporter": "python",
   "pygments_lexer": "ipython3",
   "version": "3.11.10"
  }
 },
 "nbformat": 4,
 "nbformat_minor": 2
}
