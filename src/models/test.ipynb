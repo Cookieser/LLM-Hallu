{
 "cells": [
  {
   "cell_type": "code",
   "execution_count": 1,
   "metadata": {},
   "outputs": [],
   "source": [
    "%load_ext autoreload\n",
    "%autoreload 2"
   ]
  },
  {
   "cell_type": "code",
   "execution_count": 3,
   "metadata": {},
   "outputs": [],
   "source": [
    "from huggingface_models import *\n",
    "os.environ[\"CUDA_VISIBLE_DEVICES\"] = \"0,1\""
   ]
  },
  {
   "cell_type": "code",
   "execution_count": 4,
   "metadata": {},
   "outputs": [
    {
     "data": {
      "application/vnd.jupyter.widget-view+json": {
       "model_id": "d20329c8d272400483ea1b043f8138e3",
       "version_major": 2,
       "version_minor": 0
      },
      "text/plain": [
       "Loading checkpoint shards:   0%|          | 0/2 [00:00<?, ?it/s]"
      ]
     },
     "metadata": {},
     "output_type": "display_data"
    }
   ],
   "source": [
    "model_name = \"meta-llama/Llama-2-7b-hf\"\n",
    "huggingface_model = HuggingfaceModel(model_name=model_name, stop_sequences=\"default\", max_new_tokens=50)"
   ]
  },
  {
   "cell_type": "code",
   "execution_count": 5,
   "metadata": {},
   "outputs": [
    {
     "name": "stdout",
     "output_type": "stream",
     "text": [
      "['USER:What is the capital of France?ASSISTANT:']\n"
     ]
    }
   ],
   "source": [
    "user_tag = \"USER:\"\n",
    "assistant_tag = \"ASSISTANT:\"\n",
    "all_questions = [\"What is the capital of France?\"]\n",
    "\n",
    "\n",
    "template_str = '{user_tag}{question}{assistant_tag}'\n",
    "input = [template_str.format(user_tag=user_tag,question = q,assistant_tag=assistant_tag) for q in all_questions]\n",
    "print(input)"
   ]
  },
  {
   "cell_type": "code",
   "execution_count": 84,
   "metadata": {},
   "outputs": [
    {
     "name": "stdout",
     "output_type": "stream",
     "text": [
      "Generated Text > \n",
      " USER:What is the capital of France?ASSISTANT:Paris\n",
      "\n"
     ]
    }
   ],
   "source": [
    "input_text = \"What is the capital of France?\\n\"\n",
    "\n",
    "output_text = huggingface_model.predict(input[0], temperature=1.0,return_full=True)\n",
    "print(\"Generated Text > \\n\", output_text)\n",
    "#print(log)"
   ]
  },
  {
   "cell_type": "code",
   "execution_count": 85,
   "metadata": {},
   "outputs": [
    {
     "name": "stdout",
     "output_type": "stream",
     "text": [
      "USER:What is the capital of France?ASSISTANT: Washington\n",
      "Probability: 0.0108\n",
      "USER:What is the capital of France?ASSISTANT: Paris\n",
      "Probability: 0.1808\n",
      "USER:What is the capital of France?ASSISTANT: Beijing\n",
      "Probability: 0.0361\n"
     ]
    }
   ],
   "source": [
    "v = huggingface_model.get_p_true(input[0],\"Washington\")\n",
    "import math\n",
    "probability = math.exp(v)\n",
    "print(f\"Probability: {probability:.4f}\")\n",
    "\n",
    "\n",
    "v = huggingface_model.get_p_true(input[0],\"Paris\")\n",
    "import math\n",
    "probability = math.exp(v)\n",
    "print(f\"Probability: {probability:.4f}\")\n",
    "\n",
    "\n",
    "v = huggingface_model.get_p_true(input[0],\"Beijing\")\n",
    "import math\n",
    "probability = math.exp(v)\n",
    "print(f\"Probability: {probability:.4f}\")"
   ]
  },
  {
   "cell_type": "code",
   "execution_count": 132,
   "metadata": {},
   "outputs": [
    {
     "name": "stdout",
     "output_type": "stream",
     "text": [
      "<Generated Text>: The answer is Paris.You are very close.Let's try again.\n",
      "[-2.3718440532684326, -2.5772907733917236, -0.23488861322402954, -0.37708938121795654, -0.25083690881729126, -4.8604044914245605, -1.1218634843826294, -3.1974596977233887, -0.9903101921081543, -0.5137220621109009, -4.502274990081787, -1.1418371200561523, 0.0, -0.7846548557281494, -0.5136128664016724, -0.10367471724748611]\n"
     ]
    }
   ],
   "source": [
    "input_text = input[0]\n",
    "\n",
    "output_text,log = huggingface_model.predict(input_text, temperature=1.0)\n",
    "print(\"<Generated Text>:\", output_text)\n",
    "print(log)"
   ]
  }
 ],
 "metadata": {
  "kernelspec": {
   "display_name": "semantic_uncertainty",
   "language": "python",
   "name": "python3"
  },
  "language_info": {
   "codemirror_mode": {
    "name": "ipython",
    "version": 3
   },
   "file_extension": ".py",
   "mimetype": "text/x-python",
   "name": "python",
   "nbconvert_exporter": "python",
   "pygments_lexer": "ipython3",
   "version": "3.11.10"
  }
 },
 "nbformat": 4,
 "nbformat_minor": 2
}
